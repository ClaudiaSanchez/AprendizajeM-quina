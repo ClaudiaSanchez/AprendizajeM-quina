{
 "cells": [
  {
   "cell_type": "code",
   "execution_count": 8,
   "metadata": {},
   "outputs": [],
   "source": [
    "import matplotlib.pyplot as plt\n",
    "import numpy as np\n",
    "import pandas\n",
    "import math"
   ]
  },
  {
   "cell_type": "code",
   "execution_count": 2,
   "metadata": {},
   "outputs": [
    {
     "name": "stdout",
     "output_type": "stream",
     "text": [
      "(32561, 12)\n",
      "       age          workclass    education  education-num  \\\n",
      "0       39          State-gov    Bachelors             13   \n",
      "1       50   Self-emp-not-inc    Bachelors             13   \n",
      "2       38            Private      HS-grad              9   \n",
      "3       53            Private         11th              7   \n",
      "4       28            Private    Bachelors             13   \n",
      "...    ...                ...          ...            ...   \n",
      "32556   27            Private   Assoc-acdm             12   \n",
      "32557   40            Private      HS-grad              9   \n",
      "32558   58            Private      HS-grad              9   \n",
      "32559   22            Private      HS-grad              9   \n",
      "32560   52       Self-emp-inc      HS-grad              9   \n",
      "\n",
      "            marital-status          occupation    relationship    race  \\\n",
      "0            Never-married        Adm-clerical   Not-in-family   White   \n",
      "1       Married-civ-spouse     Exec-managerial         Husband   White   \n",
      "2                 Divorced   Handlers-cleaners   Not-in-family   White   \n",
      "3       Married-civ-spouse   Handlers-cleaners         Husband   Black   \n",
      "4       Married-civ-spouse      Prof-specialty            Wife   Black   \n",
      "...                    ...                 ...             ...     ...   \n",
      "32556   Married-civ-spouse        Tech-support            Wife   White   \n",
      "32557   Married-civ-spouse   Machine-op-inspct         Husband   White   \n",
      "32558              Widowed        Adm-clerical       Unmarried   White   \n",
      "32559        Never-married        Adm-clerical       Own-child   White   \n",
      "32560   Married-civ-spouse     Exec-managerial            Wife   White   \n",
      "\n",
      "           sex  hours-per-week  native-country  income  \n",
      "0         Male              40   United-States   <=50K  \n",
      "1         Male              13   United-States   <=50K  \n",
      "2         Male              40   United-States   <=50K  \n",
      "3         Male              40   United-States   <=50K  \n",
      "4       Female              40            Cuba   <=50K  \n",
      "...        ...             ...             ...     ...  \n",
      "32556   Female              38   United-States   <=50K  \n",
      "32557     Male              40   United-States    >50K  \n",
      "32558   Female              40   United-States   <=50K  \n",
      "32559     Male              20   United-States   <=50K  \n",
      "32560   Female              40   United-States    >50K  \n",
      "\n",
      "[32561 rows x 12 columns]\n"
     ]
    }
   ],
   "source": [
    "df = pandas.read_csv('adult.csv')\n",
    "#df.columns # columnas\n",
    "#df.values  # datos\n",
    "print(df.values.shape)\n",
    "print(df)"
   ]
  },
  {
   "cell_type": "markdown",
   "metadata": {},
   "source": [
    "# Entropia\n",
    "$$ H(x) = P(x) log(P(x)) $$"
   ]
  },
  {
   "cell_type": "code",
   "execution_count": 19,
   "metadata": {},
   "outputs": [
    {
     "name": "stdout",
     "output_type": "stream",
     "text": [
      "age 5.683324396400327\n",
      "workclass 1.647976927509927\n",
      "education 2.9313508978037115\n",
      "education-num 2.931350897803711\n",
      "marital-status 1.8336493538835448\n",
      "occupation 3.516903064343104\n",
      "relationship 2.1544237955049743\n",
      "race 0.7987406510139587\n",
      "sex 0.9157360598501509\n",
      "hours-per-week 3.4795648800680166\n",
      "native-country 0.943795413801722\n",
      "income 0.7963839552022132\n"
     ]
    }
   ],
   "source": [
    "def entropy(vector):\n",
    "    values, frequencies = np.unique(vector,return_counts=True)\n",
    "    Probabilities = frequencies / len(vector)\n",
    "    n = len(values)\n",
    "    h = 0\n",
    "    for p in Probabilities:\n",
    "        if p>0.0:\n",
    "            h += p * math.log(p,2)\n",
    "    return -h\n",
    "for i in range(df.shape[1]):\n",
    "    print(df.columns[i],entropy(df.values[:,i]))"
   ]
  },
  {
   "cell_type": "markdown",
   "metadata": {},
   "source": [
    "# Mutual Information\n",
    "\n",
    "$$ IM(x,y) = P(x,y) log \\left (   \\frac{ P(x,y) }{ P(x)P(y)} \\right ) $$"
   ]
  },
  {
   "cell_type": "code",
   "execution_count": 21,
   "metadata": {},
   "outputs": [
    {
     "name": "stdout",
     "output_type": "stream",
     "text": [
      "2.9313508978037115\n",
      "2.931350897803711\n",
      "2.031857610044507\n"
     ]
    }
   ],
   "source": [
    "def mutual_information(X,Y):\n",
    "    values_x, frequencies_x = np.unique(X,return_counts=True)\n",
    "    values_y, frequencies_y = np.unique(Y,return_counts=True)\n",
    "    Probabilities_x = frequencies_x / len(X)\n",
    "    Probabilities_y = frequencies_y / len(Y)\n",
    "    \n",
    "    im = 0\n",
    "    for vx,px in zip(values_x,Probabilities_x):\n",
    "        for vy,py in zip(values_y,Probabilities_y):\n",
    "            pxy = np.sum(np.logical_and( X==vx, Y==vy ))/len(X)\n",
    "            if px>0.0 and py>0.0 and pxy>0.0:\n",
    "                im += pxy * abs(math.log( pxy / (px*py) ))\n",
    "    \n",
    "    return im\n",
    "print(entropy(df.values[:,2]))\n",
    "print(entropy(df.values[:,3]))\n",
    "print(mutual_information(df.values[:,2],df.values[:,3]))"
   ]
  },
  {
   "cell_type": "code",
   "execution_count": null,
   "metadata": {},
   "outputs": [],
   "source": []
  }
 ],
 "metadata": {
  "kernelspec": {
   "display_name": "Python 3",
   "language": "python",
   "name": "python3"
  },
  "language_info": {
   "codemirror_mode": {
    "name": "ipython",
    "version": 3
   },
   "file_extension": ".py",
   "mimetype": "text/x-python",
   "name": "python",
   "nbconvert_exporter": "python",
   "pygments_lexer": "ipython3",
   "version": "3.7.6"
  }
 },
 "nbformat": 4,
 "nbformat_minor": 4
}
