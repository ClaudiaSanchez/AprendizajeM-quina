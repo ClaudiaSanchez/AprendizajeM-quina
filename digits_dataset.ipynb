{
 "cells": [
  {
   "cell_type": "code",
   "execution_count": 1,
   "metadata": {},
   "outputs": [],
   "source": [
    "import numpy as np\n",
    "import pandas\n",
    "import matplotlib.pyplot as plt\n",
    "from sklearn.metrics import accuracy_score \n",
    "from sklearn.svm import SVC\n",
    "from sklearn.svm import LinearSVC\n",
    "from sklearn.metrics import confusion_matrix"
   ]
  },
  {
   "cell_type": "code",
   "execution_count": 2,
   "metadata": {},
   "outputs": [
    {
     "data": {
      "image/png": "[encoded data removed]",
      "text/plain": [
       "<Figure size 432x288 with 1 Axes>"
      ]
     },
     "metadata": {
      "needs_background": "light"
     },
     "output_type": "display_data"
    }
   ],
   "source": [
    "def get_image(filename,sample):\n",
    "    X = pandas.read_csv(filename).values\n",
    "    image = np.reshape(X[sample,:],(14,14))\n",
    "    plt.figure()\n",
    "    plt.imshow(image,cmap='gray')\n",
    "    plt.show()\n",
    "\n",
    "\n",
    "get_image('digitos/BD9_test.csv',5)"
   ]
  },
  {
   "cell_type": "code",
   "execution_count": 3,
   "metadata": {},
   "outputs": [
    {
     "name": "stdout",
     "output_type": "stream",
     "text": [
      "Xtrain (50000, 196) Ytrain (50000,)\n",
      "Xtest (5000, 196) Ytest (5000,)\n"
     ]
    }
   ],
   "source": [
    "def get_dataset():\n",
    "    Xtrain = pandas.read_csv('digitos/BD0_train.csv').values\n",
    "    Ytrain = np.zeros((len(Xtrain)))\n",
    "    for i in range(1,10):\n",
    "        Xtrain_ = pandas.read_csv('digitos/BD'+str(i)+'_train.csv').values\n",
    "        Ytrain_ = np.ones((len(Xtrain_)))*i\n",
    "        Xtrain = np.concatenate((Xtrain,Xtrain_))\n",
    "        Ytrain = np.concatenate((Ytrain,Ytrain_))\n",
    "        \n",
    "      \n",
    "    Xtest = pandas.read_csv('digitos/BD0_test.csv').values\n",
    "    Ytest = np.zeros((len(Xtest)))\n",
    "    for i in range(1,10):\n",
    "        Xtest_ = pandas.read_csv('digitos/BD'+str(i)+'_test.csv').values\n",
    "        Ytest_ = np.ones((len(Xtest_)))*i\n",
    "        Xtest = np.concatenate((Xtest,Xtest_))\n",
    "        Ytest = np.concatenate((Ytest,Ytest_))\n",
    "        \n",
    "    \n",
    "    return Xtrain,Xtest,Ytrain,Ytest\n",
    "    \n",
    "Xtrain,Xtest,Ytrain,Ytest = get_dataset()\n",
    "print('Xtrain',Xtrain.shape,'Ytrain',Ytrain.shape)\n",
    "print('Xtest',Xtest.shape,'Ytest',Ytest.shape)"
   ]
  },
  {
   "cell_type": "code",
   "execution_count": 4,
   "metadata": {},
   "outputs": [
    {
     "name": "stderr",
     "output_type": "stream",
     "text": [
      "C:\\ProgramData\\Anaconda3\\lib\\site-packages\\sklearn\\svm\\_base.py:947: ConvergenceWarning: Liblinear failed to converge, increase the number of iterations.\n",
      "  \"the number of iterations.\", ConvergenceWarning)\n"
     ]
    },
    {
     "name": "stdout",
     "output_type": "stream",
     "text": [
      "0.83606\n",
      "      0     1     2     3     4     5     6     7     8     9\n",
      "0  0.94  0.00  0.01  0.00  0.01  0.01  0.02  0.00  0.01  0.00\n",
      "1  0.00  0.92  0.02  0.00  0.00  0.01  0.00  0.01  0.04  0.00\n",
      "2  0.01  0.01  0.82  0.02  0.04  0.01  0.03  0.03  0.03  0.01\n",
      "3  0.01  0.01  0.07  0.78  0.01  0.04  0.01  0.02  0.04  0.02\n",
      "4  0.00  0.00  0.01  0.00  0.87  0.01  0.02  0.01  0.02  0.05\n",
      "5  0.02  0.02  0.02  0.05  0.04  0.75  0.04  0.01  0.04  0.01\n",
      "6  0.01  0.01  0.01  0.00  0.01  0.01  0.93  0.00  0.01  0.00\n",
      "7  0.02  0.01  0.00  0.01  0.03  0.01  0.00  0.87  0.01  0.05\n",
      "8  0.01  0.03  0.03  0.03  0.01  0.07  0.02  0.01  0.76  0.03\n",
      "9  0.01  0.01  0.00  0.02  0.11  0.03  0.00  0.07  0.03  0.71\n"
     ]
    }
   ],
   "source": [
    "model = LinearSVC()\n",
    "model.fit(Xtest,Ytest)\n",
    "ypred = model.predict(Xtrain)\n",
    "print(accuracy_score(Ytrain,ypred))\n",
    "\n",
    "m = confusion_matrix(Ytrain,ypred,labels= np.arange(0,10))\n",
    "m = np.round(m/m.sum(axis=1),2)\n",
    "df = pandas.DataFrame(m,index=np.arange(0,10),columns=np.arange(0,10))\n",
    "print(df)"
   ]
  },
  {
   "cell_type": "code",
   "execution_count": null,
   "metadata": {},
   "outputs": [],
   "source": []
  }
 ],
 "metadata": {
  "kernelspec": {
   "display_name": "Python 3",
   "language": "python",
   "name": "python3"
  },
  "language_info": {
   "codemirror_mode": {
    "name": "ipython",
    "version": 3
   },
   "file_extension": ".py",
   "mimetype": "text/x-python",
   "name": "python",
   "nbconvert_exporter": "python",
   "pygments_lexer": "ipython3",
   "version": "3.7.6"
  }
 },
 "nbformat": 4,
 "nbformat_minor": 4
}
