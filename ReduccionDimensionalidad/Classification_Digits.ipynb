{
 "cells": [
  {
   "cell_type": "code",
   "execution_count": 1,
   "metadata": {},
   "outputs": [],
   "source": [
    "import numpy as np\n",
    "import pandas\n",
    "import matplotlib.pyplot as plt\n",
    "from sklearn.datasets import load_digits\n",
    "from sklearn.decomposition import PCA\n",
    "from sklearn.discriminant_analysis import LinearDiscriminantAnalysis\n",
    "from sklearn.metrics import accuracy_score \n",
    "from sklearn.svm import SVC\n",
    "from sklearn.metrics import mean_absolute_error \n",
    "from sklearn.model_selection import train_test_split\n",
    "from sklearn.metrics import confusion_matrix"
   ]
  },
  {
   "cell_type": "code",
   "execution_count": 2,
   "metadata": {},
   "outputs": [
    {
     "name": "stdout",
     "output_type": "stream",
     "text": [
      "X (1797, 64)\n",
      "y (1797,) (array([0, 1, 2, 3, 4, 5, 6, 7, 8, 9]), array([178, 182, 177, 183, 181, 182, 181, 179, 174, 180], dtype=int64))\n"
     ]
    }
   ],
   "source": [
    "X,y = load_digits(return_X_y = True)\n",
    "print('X',X.shape)\n",
    "print('y',y.shape,np.unique(y,return_counts=True))"
   ]
  },
  {
   "cell_type": "code",
   "execution_count": 3,
   "metadata": {},
   "outputs": [
    {
     "name": "stdout",
     "output_type": "stream",
     "text": [
      "Digito: 6\n"
     ]
    },
    {
     "data": {
      "image/png": "[encoded data removed]",
      "text/plain": [
       "<Figure size 432x288 with 1 Axes>"
      ]
     },
     "metadata": {
      "needs_background": "light"
     },
     "output_type": "display_data"
    }
   ],
   "source": [
    "idx = 750\n",
    "sample = X[idx,:]\n",
    "print('Digito:', y[idx])\n",
    "img_sample = np.reshape(sample,(8,8))\n",
    "plt.imshow(img_sample,cmap='gray')\n",
    "plt.show()"
   ]
  },
  {
   "cell_type": "code",
   "execution_count": 4,
   "metadata": {},
   "outputs": [],
   "source": [
    "n = len(X)\n",
    "idx = np.random.permutation(n)\n",
    "idx_train = idx[ :int(n*0.7)]\n",
    "idx_test = idx[ int(n*0.7):]\n",
    "\n",
    "Xtrain = X[idx_train,:]\n",
    "Ytrain = y[idx_train]\n",
    "Xtest = X[idx_test,:]\n",
    "Ytest = y[idx_test]"
   ]
  },
  {
   "cell_type": "code",
   "execution_count": 5,
   "metadata": {},
   "outputs": [
    {
     "name": "stdout",
     "output_type": "stream",
     "text": [
      "0.9851851851851852\n"
     ]
    }
   ],
   "source": [
    "model = SVC()\n",
    "model.fit(Xtrain,Ytrain)\n",
    "ypred = model.predict(Xtest)\n",
    "print(accuracy_score(Ytest,ypred))"
   ]
  },
  {
   "cell_type": "code",
   "execution_count": 6,
   "metadata": {},
   "outputs": [
    {
     "name": "stdout",
     "output_type": "stream",
     "text": [
      "     0     1    2     3     4     5    6     7     8     9\n",
      "0  1.0  0.00  0.0  0.00  0.00  0.00  0.0  0.00  0.00  0.00\n",
      "1  0.0  1.00  0.0  0.00  0.00  0.00  0.0  0.00  0.00  0.00\n",
      "2  0.0  0.00  1.0  0.00  0.00  0.00  0.0  0.00  0.00  0.00\n",
      "3  0.0  0.00  0.0  0.98  0.00  0.00  0.0  0.02  0.00  0.00\n",
      "4  0.0  0.00  0.0  0.00  0.96  0.00  0.0  0.02  0.02  0.00\n",
      "5  0.0  0.00  0.0  0.00  0.00  0.98  0.0  0.00  0.00  0.02\n",
      "6  0.0  0.00  0.0  0.00  0.00  0.00  1.0  0.00  0.00  0.00\n",
      "7  0.0  0.00  0.0  0.00  0.00  0.00  0.0  0.98  0.00  0.02\n",
      "8  0.0  0.02  0.0  0.02  0.00  0.00  0.0  0.00  0.97  0.00\n",
      "9  0.0  0.00  0.0  0.00  0.00  0.00  0.0  0.02  0.00  0.98\n"
     ]
    }
   ],
   "source": [
    "m = confusion_matrix(Ytest,ypred,labels= np.arange(0,10))\n",
    "m = np.round(m/m.sum(axis=1),2)\n",
    "df = pandas.DataFrame(m,index=np.arange(0,10),columns=np.arange(0,10))\n",
    "print(df)"
   ]
  },
  {
   "cell_type": "code",
   "execution_count": null,
   "metadata": {},
   "outputs": [],
   "source": []
  }
 ],
 "metadata": {
  "kernelspec": {
   "display_name": "Python 3",
   "language": "python",
   "name": "python3"
  },
  "language_info": {
   "codemirror_mode": {
    "name": "ipython",
    "version": 3
   },
   "file_extension": ".py",
   "mimetype": "text/x-python",
   "name": "python",
   "nbconvert_exporter": "python",
   "pygments_lexer": "ipython3",
   "version": "3.7.6"
  }
 },
 "nbformat": 4,
 "nbformat_minor": 4
}
