{
 "cells": [
  {
   "cell_type": "code",
   "execution_count": 14,
   "metadata": {},
   "outputs": [],
   "source": [
    "from sklearn.datasets import load_digits\n",
    "from sklearn.decomposition import PCA\n",
    "from sklearn.discriminant_analysis import LinearDiscriminantAnalysis\n",
    "from sklearn.metrics import accuracy_score \n",
    "import numpy as np\n",
    "import matplotlib.pyplot as plt\n",
    "from sklearn.svm import SVC\n",
    "from sklearn.metrics import mean_absolute_error \n",
    "from sklearn.model_selection import train_test_split"
   ]
  },
  {
   "cell_type": "code",
   "execution_count": 2,
   "metadata": {},
   "outputs": [
    {
     "name": "stdout",
     "output_type": "stream",
     "text": [
      "X (1797, 64)\n",
      "y (1797,)\n"
     ]
    }
   ],
   "source": [
    "X,y = load_digits(return_X_y = True)\n",
    "print('X',X.shape)\n",
    "print('y',y.shape)"
   ]
  },
  {
   "cell_type": "code",
   "execution_count": 55,
   "metadata": {},
   "outputs": [],
   "source": [
    "model = PCA()\n",
    "model.fit(X)\n",
    "XPCA = model.transform(X)"
   ]
  },
  {
   "cell_type": "code",
   "execution_count": 56,
   "metadata": {},
   "outputs": [],
   "source": [
    "model = LinearDiscriminantAnalysis()\n",
    "model.fit(X,y)\n",
    "XLDA =model.transform(X)"
   ]
  },
  {
   "cell_type": "code",
   "execution_count": 57,
   "metadata": {},
   "outputs": [
    {
     "name": "stdout",
     "output_type": "stream",
     "text": [
      "XPCA (1797, 20)\n",
      "XLDA (1797, 9)\n"
     ]
    }
   ],
   "source": [
    "XPCA = XPCA[:,:20]\n",
    "print('XPCA',XPCA.shape)\n",
    "print('XLDA',XLDA.shape)"
   ]
  },
  {
   "cell_type": "code",
   "execution_count": 65,
   "metadata": {},
   "outputs": [],
   "source": [
    "n = len(X)\n",
    "idx = np.random.permutation(n)\n",
    "idx_train = idx[ :int(n*0.7)]\n",
    "idx_test = idx[ int(n*0.7):]\n",
    "\n",
    "Xtrain = X[idx_train,:]\n",
    "Ytrain = y[idx_train]\n",
    "Xtest = X[idx_test,:]\n",
    "Ytest = y[idx_test]\n",
    "\n",
    "XPCAtrain = XPCA[idx_train,:]\n",
    "XPCAtest = XPCA[idx_test,:]\n",
    "\n",
    "XLDAtrain = XLDA[idx_train,:]\n",
    "XLDAtest = XLDA[idx_test,:]"
   ]
  },
  {
   "cell_type": "code",
   "execution_count": 66,
   "metadata": {},
   "outputs": [
    {
     "name": "stdout",
     "output_type": "stream",
     "text": [
      "0.9925925925925926\n"
     ]
    }
   ],
   "source": [
    "model = SVC()\n",
    "model.fit(Xtrain,Ytrain)\n",
    "ypred = model.predict(Xtest)\n",
    "print(accuracy_score(Ytest,ypred))"
   ]
  },
  {
   "cell_type": "code",
   "execution_count": 67,
   "metadata": {},
   "outputs": [
    {
     "name": "stdout",
     "output_type": "stream",
     "text": [
      "0.9981481481481481\n"
     ]
    }
   ],
   "source": [
    "model = SVC()\n",
    "model.fit(XPCAtrain,Ytrain)\n",
    "ypred = model.predict(XPCAtest)\n",
    "print(accuracy_score(Ytest,ypred))"
   ]
  },
  {
   "cell_type": "code",
   "execution_count": 68,
   "metadata": {},
   "outputs": [
    {
     "name": "stdout",
     "output_type": "stream",
     "text": [
      "0.9833333333333333\n"
     ]
    }
   ],
   "source": [
    "model = SVC()\n",
    "model.fit(XLDAtrain,Ytrain)\n",
    "ypred = model.predict(XLDAtest)\n",
    "print(accuracy_score(Ytest,ypred))"
   ]
  },
  {
   "cell_type": "code",
   "execution_count": null,
   "metadata": {},
   "outputs": [],
   "source": []
  }
 ],
 "metadata": {
  "kernelspec": {
   "display_name": "Python 3",
   "language": "python",
   "name": "python3"
  },
  "language_info": {
   "codemirror_mode": {
    "name": "ipython",
    "version": 3
   },
   "file_extension": ".py",
   "mimetype": "text/x-python",
   "name": "python",
   "nbconvert_exporter": "python",
   "pygments_lexer": "ipython3",
   "version": "3.7.6"
  }
 },
 "nbformat": 4,
 "nbformat_minor": 4
}
