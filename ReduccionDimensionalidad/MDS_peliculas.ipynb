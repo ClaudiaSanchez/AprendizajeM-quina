{
 "cells": [
  {
   "cell_type": "code",
   "execution_count": 1,
   "metadata": {},
   "outputs": [],
   "source": [
    "# Evaluaciones de peliculas\n",
    "#             Pelicula 1  |  Pelicula 2 | Pelicula 3\n",
    "# Cliente 1 |      0      |     0       |     2\n",
    "# Cliente 2 |      3      |     0       |     0\n",
    "# Cliente 3 |      0      |     5       |     0\n",
    "# Cliente 4 |      0      |     0       |     0\n",
    "\n",
    "# Peliculas_Cliente.txt  (id_pelicula  id_cliente   evaluacion)\n",
    "# 2  3  5\n",
    "# 3  1  2\n",
    "# 1  2  3"
   ]
  },
  {
   "cell_type": "code",
   "execution_count": 2,
   "metadata": {},
   "outputs": [],
   "source": [
    "import numpy as np\n",
    "import pandas\n",
    "from sklearn.manifold import MDS \n",
    "import matplotlib.pyplot as plt"
   ]
  },
  {
   "cell_type": "code",
   "execution_count": 3,
   "metadata": {},
   "outputs": [
    {
     "name": "stdout",
     "output_type": "stream",
     "text": [
      "[[5. 3. 4. ... 0. 0. 0.]\n",
      " [4. 0. 0. ... 0. 0. 0.]\n",
      " [0. 0. 0. ... 0. 0. 0.]\n",
      " ...\n",
      " [5. 0. 0. ... 0. 0. 0.]\n",
      " [0. 0. 0. ... 0. 0. 0.]\n",
      " [0. 5. 0. ... 0. 0. 0.]]\n"
     ]
    }
   ],
   "source": [
    "nClientes = 943\n",
    "nPeliculas = 1682\n",
    "E = np.zeros((nClientes,nPeliculas) )\n",
    "\n",
    "file = open('peliculas/Peliculas_Clientes.txt','r')\n",
    "for line in file:\n",
    "    id_cliente, id_pelicula, evaluacion, _ = line.split('\\t')\n",
    "    E[int(id_cliente)-1,int(id_pelicula)-1] = evaluacion\n",
    "print(E)\n",
    "df = pandas.DataFrame(E,index=np.arange(1,nClientes+1),columns=np.arange(1,nPeliculas+1))\n",
    "df.to_csv('evaluaciones_peliculas.csv')"
   ]
  },
  {
   "cell_type": "code",
   "execution_count": 4,
   "metadata": {},
   "outputs": [],
   "source": [
    "peliculas = []\n",
    "file = open('peliculas/Peliculas_descripcion.txt','r')\n",
    "for line in file:\n",
    "    arr = line.split('|')\n",
    "    id_pelicula, titulo = arr[0], arr[1]\n",
    "    peliculas.append( titulo )\n",
    "#print(len(peliculas),peliculas)"
   ]
  },
  {
   "cell_type": "markdown",
   "metadata": {},
   "source": [
    "### Filtrar: conservar sólo las N peliculas con mayor número de evaluaciones"
   ]
  },
  {
   "cell_type": "code",
   "execution_count": 5,
   "metadata": {},
   "outputs": [
    {
     "name": "stdout",
     "output_type": "stream",
     "text": [
      "Evaluaciones: (943, 1682)\n",
      "[[5. 3. 4. ... 0. 0. 0.]\n",
      " [4. 0. 0. ... 0. 0. 0.]\n",
      " [0. 0. 0. ... 0. 0. 0.]\n",
      " ...\n",
      " [5. 0. 0. ... 0. 0. 0.]\n",
      " [0. 0. 0. ... 0. 0. 0.]\n",
      " [0. 5. 0. ... 0. 0. 0.]]\n",
      "Star Wars (1977) 583.0\n",
      "Contact (1997) 509.0\n",
      "Fargo (1996) 508.0\n",
      "Return of the Jedi (1983) 507.0\n",
      "Liar Liar (1997) 485.0\n",
      "English Patient, The (1996) 481.0\n",
      "Scream (1996) 478.0\n",
      "Toy Story (1995) 452.0\n",
      "Air Force One (1997) 431.0\n",
      "Independence Day (ID4) (1996) 429.0\n",
      "Raiders of the Lost Ark (1981) 420.0\n",
      "Godfather, The (1972) 413.0\n",
      "Pulp Fiction (1994) 394.0\n",
      "Twelve Monkeys (1995) 392.0\n",
      "Silence of the Lambs, The (1991) 390.0\n",
      "Jerry Maguire (1996) 384.0\n",
      "Rock, The (1996) 378.0\n",
      "Empire Strikes Back, The (1980) 367.0\n",
      "Star Trek: First Contact (1996) 365.0\n",
      "Titanic (1997) 350.0\n",
      "Back to the Future (1985) 350.0\n",
      "Mission: Impossible (1996) 344.0\n",
      "Fugitive, The (1993) 336.0\n",
      "Indiana Jones and the Last Crusade (1989) 331.0\n",
      "Willy Wonka and the Chocolate Factory (1971) 326.0\n",
      "Princess Bride, The (1987) 324.0\n",
      "Forrest Gump (1994) 321.0\n",
      "Monty Python and the Holy Grail (1974) 316.0\n",
      "Saint, The (1997) 316.0\n",
      "Full Monty, The (1997) 315.0\n",
      "Men in Black (1997) 303.0\n",
      "Terminator, The (1984) 301.0\n",
      "E.T. the Extra-Terrestrial (1982) 300.0\n",
      "Dead Man Walking (1995) 299.0\n",
      "Schindler's List (1993) 298.0\n",
      "Leaving Las Vegas (1995) 298.0\n",
      "L.A. Confidential (1997) 297.0\n",
      "Braveheart (1995) 297.0\n",
      "Terminator 2: Judgment Day (1991) 295.0\n",
      "Conspiracy Theory (1997) 295.0\n",
      "Birdcage, The (1996) 293.0\n",
      "Mr. Holland's Opus (1995) 293.0\n",
      "Twister (1996) 293.0\n",
      "Alien (1979) 291.0\n",
      "When Harry Met Sally... (1989) 290.0\n",
      "Aliens (1986) 284.0\n",
      "Shawshank Redemption, The (1994) 283.0\n",
      "Jaws (1975) 280.0\n",
      "Groundhog Day (1993) 280.0\n",
      "Apollo 13 (1995) 276.0\n",
      "Amadeus (1984) 276.0\n",
      "Blade Runner (1982) 275.0\n",
      "Truth About Cats & Dogs, The (1996) 272.0\n",
      "Sense and Sensibility (1995) 268.0\n",
      "Usual Suspects, The (1995) 267.0\n",
      "Ransom (1996) 267.0\n",
      "One Flew Over the Cuckoo's Nest (1975) 264.0\n",
      "Jurassic Park (1993) 261.0\n",
      "Evita (1996) 259.0\n",
      "2001: A Space Odyssey (1968) 259.0\n",
      "Dances with Wolves (1990) 256.0\n",
      "Raising Arizona (1987) 256.0\n",
      "Chasing Amy (1997) 255.0\n",
      "Broken Arrow (1996) 254.0\n",
      "Four Weddings and a Funeral (1994) 251.0\n",
      "Game, The (1997) 251.0\n",
      "Blues Brothers, The (1980) 251.0\n",
      "Dead Poets Society (1989) 251.0\n",
      "Trainspotting (1996) 250.0\n",
      "Fish Called Wanda, A (1988) 247.0\n",
      "Wizard of Oz, The (1939) 246.0\n",
      "Phenomenon (1996) 244.0\n",
      "Star Trek: The Wrath of Khan (1982) 244.0\n",
      "Die Hard (1988) 243.0\n",
      "Casablanca (1942) 243.0\n",
      "Sting, The (1973) 241.0\n",
      "Devil's Own, The (1997) 240.0\n",
      "Dante's Peak (1997) 240.0\n",
      "Graduate, The (1967) 239.0\n",
      "Psycho (1960) 239.0\n",
      "Seven (Se7en) (1995) 236.0\n",
      "Time to Kill, A (1996) 232.0\n",
      "It's a Wonderful Life (1946) 231.0\n",
      "Speed (1994) 230.0\n",
      "In & Out (1997) 230.0\n",
      "Hunt for Red October, The (1990) 227.0\n",
      "Stand by Me (1986) 227.0\n",
      "GoodFellas (1990) 226.0\n",
      "Heat (1995) 223.0\n",
      "Sound of Music, The (1965) 222.0\n",
      "Clockwork Orange, A (1971) 221.0\n",
      "Apocalypse Now (1979) 221.0\n",
      "Courage Under Fire (1996) 221.0\n",
      "Top Gun (1986) 220.0\n",
      "Lion King, The (1994) 220.0\n",
      "Babe (1995) 219.0\n",
      "Aladdin (1992) 219.0\n",
      "To Kill a Mockingbird (1962) 219.0\n",
      "Volcano (1997) 219.0\n",
      "Murder at 1600 (1997) 218.0\n"
     ]
    }
   ],
   "source": [
    "N = 100\n",
    "\n",
    "print('Evaluaciones:',E.shape)\n",
    "print(E)\n",
    "# Calcular el número de evaluaciones por película\n",
    "n_evaluaciones_pelicula = np.zeros((nPeliculas))\n",
    "for p in range(nPeliculas):\n",
    "    n_evaluaciones_pelicula[p] = np.sum(  E[:,p]!=0  )\n",
    "    \n",
    "# Ordenar de la que tiene mayor número de evaluaciones a la menor\n",
    "idx = np.argsort(n_evaluaciones_pelicula)\n",
    "idx = idx[::-1]\n",
    "peliculas = np.array(peliculas)[idx]\n",
    "n_evaluaciones_pelicula = n_evaluaciones_pelicula[idx]\n",
    "\n",
    "idx = idx[:N]\n",
    "peliculas = peliculas[:N]\n",
    "n_evaluaciones_pelicula = n_evaluaciones_pelicula[:N]\n",
    "\n",
    "for i in range(len(idx)):\n",
    "    print( peliculas[i],n_evaluaciones_pelicula[i])\n"
   ]
  },
  {
   "cell_type": "code",
   "execution_count": 6,
   "metadata": {},
   "outputs": [],
   "source": [
    "E = E[:,idx]\n",
    "df = pandas.DataFrame(E,index=np.arange(1,nClientes+1),columns=peliculas)\n",
    "df.to_csv('evaluaciones_peliculas.csv')"
   ]
  },
  {
   "cell_type": "markdown",
   "metadata": {},
   "source": [
    "## Representación 1: con matriz de distancias"
   ]
  },
  {
   "cell_type": "code",
   "execution_count": 12,
   "metadata": {
    "scrolled": true
   },
   "outputs": [
    {
     "name": "stdout",
     "output_type": "stream",
     "text": [
      "[[0.         1.0239521  0.9035533  ... 0.80110497 1.80851064 1.53389831]\n",
      " [1.0239521  0.         1.02573529 ... 0.96330275 1.3803681  1.16447368]\n",
      " [0.9035533  1.02573529 0.         ... 0.73856209 1.856      1.57627119]\n",
      " ...\n",
      " [0.80110497 0.96330275 0.73856209 ... 0.         1.91666667 1.68421053]\n",
      " [1.80851064 1.3803681  1.856      ... 1.91666667 0.         0.82075472]\n",
      " [1.53389831 1.16447368 1.57627119 ... 1.68421053 0.82075472 0.        ]]\n"
     ]
    }
   ],
   "source": [
    "D = np.zeros((N,N))\n",
    "for i in range(N):\n",
    "    for j in range(i+1,N):\n",
    "        peli = E[:,i]\n",
    "        pelj = E[:,j]\n",
    "        idx = np.logical_and( peli!=0, pelj!=0 )\n",
    "        peli = peli[idx]\n",
    "        pelj = pelj[idx]\n",
    "        D[i,j] = D[j,i] = np.mean(np.abs( peli-pelj ))\n",
    "print(D)"
   ]
  },
  {
   "cell_type": "code",
   "execution_count": 13,
   "metadata": {},
   "outputs": [
    {
     "name": "stdout",
     "output_type": "stream",
     "text": [
      "X (100, 2)\n"
     ]
    }
   ],
   "source": [
    "model = MDS(dissimilarity='precomputed')\n",
    "X = model.fit_transform(D)\n",
    "print('X',X.shape)"
   ]
  },
  {
   "cell_type": "code",
   "execution_count": 14,
   "metadata": {},
   "outputs": [
    {
     "data": {
      "image/png": "[encoded data removed]",
      "text/plain": [
       "<Figure size 432x288 with 1 Axes>"
      ]
     },
     "metadata": {
      "needs_background": "light"
     },
     "output_type": "display_data"
    }
   ],
   "source": [
    "\n",
    "plt.figure()\n",
    "plt.plot(X[:,0],X[:,1],'.',color='white')\n",
    "for i in range(N):\n",
    "    plt.text(X[i,0],X[i,1],peliculas[i][:8],fontsize=5)\n",
    "plt.savefig('peliculas.png',dpi=300)"
   ]
  },
  {
   "cell_type": "markdown",
   "metadata": {},
   "source": [
    "## Representación 2: con los datos de las evaluaciones"
   ]
  },
  {
   "cell_type": "code",
   "execution_count": 10,
   "metadata": {
    "scrolled": true
   },
   "outputs": [
    {
     "name": "stdout",
     "output_type": "stream",
     "text": [
      "E (943, 100)\n",
      "X (100, 943)\n",
      "X (100, 2)\n"
     ]
    },
    {
     "data": {
      "image/png": "[encoded data removed]",
      "text/plain": [
       "<Figure size 432x288 with 1 Axes>"
      ]
     },
     "metadata": {
      "needs_background": "light"
     },
     "output_type": "display_data"
    }
   ],
   "source": [
    "print('E',E.shape)\n",
    "X = E.transpose()\n",
    "print('X',X.shape)\n",
    "\n",
    "model = MDS(dissimilarity='euclidean')\n",
    "X = model.fit_transform(X)\n",
    "print('X',X.shape)\n",
    "\n",
    "plt.figure()\n",
    "plt.plot(X[:,0],X[:,1],'.',color='white')\n",
    "for i in range(N):\n",
    "    plt.text(X[i,0],X[i,1],peliculas[i][:8],fontsize=5)\n",
    "#plt.savefig('peliculas.png',dpi=300)"
   ]
  },
  {
   "cell_type": "code",
   "execution_count": 11,
   "metadata": {},
   "outputs": [
    {
     "data": {
      "image/png": "[encoded data removed]",
      "text/plain": [
       "<Figure size 432x288 with 1 Axes>"
      ]
     },
     "metadata": {
      "needs_background": "light"
     },
     "output_type": "display_data"
    }
   ],
   "source": [
    "# Más colores: https://matplotlib.org/3.1.0/gallery/color/named_colors.html\n",
    "colores = ['blue','red','orange']\n",
    "profesiones = ['programmer','educator']\n",
    "\n",
    "x = np.arange(-5,5)\n",
    "y1 = np.random.uniform(-2,1,len(x))\n",
    "y2 = np.random.uniform(0,3,len(x))\n",
    "plt.plot(x,y1,'.',color='indigo',label='programmer')\n",
    "plt.plot(x,y2,'.',color='red',label='educator')\n",
    "plt.legend()\n",
    "plt.show()"
   ]
  },
  {
   "cell_type": "code",
   "execution_count": null,
   "metadata": {},
   "outputs": [],
   "source": []
  }
 ],
 "metadata": {
  "kernelspec": {
   "display_name": "Python 3",
   "language": "python",
   "name": "python3"
  },
  "language_info": {
   "codemirror_mode": {
    "name": "ipython",
    "version": 3
   },
   "file_extension": ".py",
   "mimetype": "text/x-python",
   "name": "python",
   "nbconvert_exporter": "python",
   "pygments_lexer": "ipython3",
   "version": "3.7.6"
  }
 },
 "nbformat": 4,
 "nbformat_minor": 4
}
