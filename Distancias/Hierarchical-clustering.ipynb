{
 "cells": [
  {
   "cell_type": "code",
   "execution_count": 2,
   "metadata": {},
   "outputs": [],
   "source": [
    "import pandas\n",
    "import matplotlib.pyplot as plt\n",
    "import numpy as np\n",
    "from scipy.cluster import hierarchy"
   ]
  },
  {
   "cell_type": "code",
   "execution_count": 3,
   "metadata": {},
   "outputs": [
    {
     "name": "stdout",
     "output_type": "stream",
     "text": [
      "(100, 30)\n",
      "[[5.788049178 7.851988048 7.881744422000001 ... 0.101923565 1.038257866\n",
      "  0.311885261]\n",
      " [2.935324679 6.650836751 6.951674687000001 ... 1.2247563559999999\n",
      "  1.856530002 2.2327967319999997]\n",
      " [2.018340278 7.894895259 6.280821247 ... 0.09090028300000001 0.858917912\n",
      "  0.178821979]\n",
      " ...\n",
      " [5.512518397000001 2.563814416 2.134245847 ... -2.711754818 0.902072937\n",
      "  0.562489453]\n",
      " [7.432351678 3.14180949 8.801737959 ... -0.897253537 0.245400575\n",
      "  -0.477924498]\n",
      " [8.995609368 5.116416662 4.742251143 ... 0.071819856 0.086199144\n",
      "  -0.583580499]]\n"
     ]
    }
   ],
   "source": [
    "df = pandas.read_csv('wine.csv')\n",
    "gender = df.values[:,0]\n",
    "X = df.values[:,1:]\n",
    "print(X.shape)\n",
    "print(X)"
   ]
  },
  {
   "cell_type": "code",
   "execution_count": 14,
   "metadata": {
    "scrolled": true
   },
   "outputs": [
    {
     "data": {
      "image/png": "[encoded data removed]",
      "text/plain": [
       "<Figure size 432x288 with 1 Axes>"
      ]
     },
     "metadata": {
      "needs_background": "light"
     },
     "output_type": "display_data"
    }
   ],
   "source": [
    "hierarchy.set_link_color_palette(['plum','lightseagreen', 'silver'])\n",
    "\n",
    "Z = hierarchy.linkage(X, 'single')\n",
    "#dn = hierarchy.dendrogram(Z,labels=gender,color_threshold=8)\n",
    "dn = hierarchy.dendrogram(Z,labels=np.arange(1,len(X)+1),color_threshold=6)\n",
    "plt.savefig('dendrograma.png',dpi=300)"
   ]
  },
  {
   "cell_type": "code",
   "execution_count": 15,
   "metadata": {},
   "outputs": [
    {
     "name": "stdout",
     "output_type": "stream",
     "text": [
      "100\n",
      "[15 44  8  2  9 29 13 18 47 36  5 21 14 16  1 33  6 22  1 25 24 28 17 19\n",
      "  4 45 11 34 41 27 10 39 40 37 21 23 46 42 43 26 20 31  5 35 30 38  7 32\n",
      "  3 12 57 87 57 65 60 48 50 64 57 55 69 62 57 50 53 85 56 57 57 61 84 66\n",
      " 86 78 54 81 89 82 58 74 67 49 75 63 57 51 79 59 57 77 88 83 76 52 73 70\n",
      " 71 80 72 68]\n"
     ]
    }
   ],
   "source": [
    "g = hierarchy.fcluster(Z,t=6,criterion='distance')\n",
    "print(len(g))\n",
    "print(g)"
   ]
  }
 ],
 "metadata": {
  "kernelspec": {
   "display_name": "Python 3",
   "language": "python",
   "name": "python3"
  },
  "language_info": {
   "codemirror_mode": {
    "name": "ipython",
    "version": 3
   },
   "file_extension": ".py",
   "mimetype": "text/x-python",
   "name": "python",
   "nbconvert_exporter": "python",
   "pygments_lexer": "ipython3",
   "version": "3.7.6"
  }
 },
 "nbformat": 4,
 "nbformat_minor": 4
}
