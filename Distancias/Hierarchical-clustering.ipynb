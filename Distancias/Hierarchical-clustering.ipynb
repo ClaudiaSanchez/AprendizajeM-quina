{
 "cells": [
  {
   "cell_type": "code",
   "execution_count": 10,
   "metadata": {},
   "outputs": [],
   "source": [
    "import pandas\n",
    "import matplotlib.pyplot as plt\n",
    "import numpy as np\n",
    "from scipy.cluster.hierarchy import dendrogram\n",
    "from scipy.cluster import hierarchy\n",
    "from sklearn.cluster import AgglomerativeClustering"
   ]
  },
  {
   "cell_type": "code",
   "execution_count": 11,
   "metadata": {},
   "outputs": [
    {
     "name": "stdout",
     "output_type": "stream",
     "text": [
      "(100, 30)\n",
      "[[5.788049178 7.851988048 7.881744422000001 ... 0.101923565 1.038257866\n",
      "  0.311885261]\n",
      " [2.935324679 6.650836751 6.951674687000001 ... 1.2247563559999999\n",
      "  1.856530002 2.2327967319999997]\n",
      " [2.018340278 7.894895259 6.280821247 ... 0.09090028300000001 0.858917912\n",
      "  0.178821979]\n",
      " ...\n",
      " [5.512518397000001 2.563814416 2.134245847 ... -2.711754818 0.902072937\n",
      "  0.562489453]\n",
      " [7.432351678 3.14180949 8.801737959 ... -0.897253537 0.245400575\n",
      "  -0.477924498]\n",
      " [8.995609368 5.116416662 4.742251143 ... 0.071819856 0.086199144\n",
      "  -0.583580499]]\n"
     ]
    }
   ],
   "source": [
    "df = pandas.read_csv('wine.csv')\n",
    "X = df.values[:,1:]\n",
    "print(X.shape)\n",
    "print(X)"
   ]
  },
  {
   "cell_type": "code",
   "execution_count": 17,
   "metadata": {
    "scrolled": true
   },
   "outputs": [
    {
     "data": {
      "image/png": "[encoded data removed]",
      "text/plain": [
       "<Figure size 432x288 with 1 Axes>"
      ]
     },
     "metadata": {
      "needs_background": "light"
     },
     "output_type": "display_data"
    }
   ],
   "source": [
    "model = AgglomerativeClustering()\n",
    "model.fit(X)\n",
    "\n",
    "Z = hierarchy.linkage(X, 'single')\n",
    "#print(Z)\n",
    "dn = hierarchy.dendrogram(Z)\n",
    "plt.savefig('dendrograma.png',dpi=300)"
   ]
  },
  {
   "cell_type": "code",
   "execution_count": null,
   "metadata": {},
   "outputs": [],
   "source": []
  }
 ],
 "metadata": {
  "kernelspec": {
   "display_name": "Python 3",
   "language": "python",
   "name": "python3"
  },
  "language_info": {
   "codemirror_mode": {
    "name": "ipython",
    "version": 3
   },
   "file_extension": ".py",
   "mimetype": "text/x-python",
   "name": "python",
   "nbconvert_exporter": "python",
   "pygments_lexer": "ipython3",
   "version": "3.7.6"
  }
 },
 "nbformat": 4,
 "nbformat_minor": 4
}
