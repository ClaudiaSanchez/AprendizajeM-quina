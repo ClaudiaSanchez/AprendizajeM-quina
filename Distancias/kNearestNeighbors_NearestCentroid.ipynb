{
 "cells": [
  {
   "cell_type": "code",
   "execution_count": 7,
   "metadata": {},
   "outputs": [],
   "source": [
    "from sklearn.model_selection import train_test_split\n",
    "from sklearn.neighbors import NearestCentroid\n",
    "from sklearn.neighbors import KNeighborsClassifier\n",
    "from sklearn.svm import SVC\n",
    "\n",
    "import numpy as np\n",
    "import matplotlib.pyplot as plt\n",
    "from sklearn.datasets import load_digits\n",
    "\n",
    "from sklearn.metrics import accuracy_score\n",
    "from sklearn.metrics import confusion_matrix"
   ]
  },
  {
   "cell_type": "code",
   "execution_count": 2,
   "metadata": {},
   "outputs": [
    {
     "name": "stdout",
     "output_type": "stream",
     "text": [
      "X (1797, 64)\n",
      "y (1797,)\n",
      "(array([0, 1, 2, 3, 4, 5, 6, 7, 8, 9]), array([178, 182, 177, 183, 181, 182, 181, 179, 174, 180], dtype=int64))\n"
     ]
    }
   ],
   "source": [
    "X,y = load_digits(return_X_y=True)\n",
    "print('X',X.shape)\n",
    "print('y',y.shape)\n",
    "print(np.unique(y,return_counts=True))"
   ]
  },
  {
   "cell_type": "code",
   "execution_count": 5,
   "metadata": {},
   "outputs": [],
   "source": [
    "Xtrain, Xtest, ytrain, ytest = train_test_split(X, y, test_size=0.33, random_state=0)"
   ]
  },
  {
   "cell_type": "code",
   "execution_count": 11,
   "metadata": {},
   "outputs": [
    {
     "name": "stdout",
     "output_type": "stream",
     "text": [
      "Accuracy 0.9747474747474747\n",
      "Confusion matrix\n",
      "[[49  0  0  0  0  0  0  0  0  0]\n",
      " [ 0 61  0  0  0  0  0  0  0  0]\n",
      " [ 0  1 60  0  0  0  0  1  0  0]\n",
      " [ 0  0  0 55  0  0  0  0  0  0]\n",
      " [ 0  0  0  0 49  0  0  1  0  0]\n",
      " [ 0  0  0  0  0 62  1  0  0  2]\n",
      " [ 0  0  0  0  0  0 67  0  0  0]\n",
      " [ 0  0  0  0  0  0  0 56  0  0]\n",
      " [ 0  5  0  2  0  0  0  1 59  0]\n",
      " [ 0  0  0  0  0  1  0  0  0 61]]\n"
     ]
    }
   ],
   "source": [
    "model = KNeighborsClassifier(n_neighbors=9)\n",
    "model.fit(Xtrain,ytrain)\n",
    "ypredict = model.predict(Xtest)\n",
    "print('Accuracy',accuracy_score(ytest,ypredict))\n",
    "print('Confusion matrix')\n",
    "print(confusion_matrix(ytest,ypredict))"
   ]
  },
  {
   "cell_type": "code",
   "execution_count": 13,
   "metadata": {},
   "outputs": [
    {
     "name": "stdout",
     "output_type": "stream",
     "text": [
      "Accuracy 0.8888888888888888\n",
      "Confusion matrix\n",
      "[[49  0  0  0  0  0  0  0  0  0]\n",
      " [ 0 46  5  0  0  1  2  0  0  7]\n",
      " [ 1  2 53  3  0  0  0  2  0  1]\n",
      " [ 0  0  1 46  0  0  0  2  2  4]\n",
      " [ 0  1  0  0 46  0  0  3  0  0]\n",
      " [ 0  0  0  0  0 54  1  0  0 10]\n",
      " [ 0  1  0  0  0  0 66  0  0  0]\n",
      " [ 0  0  0  0  0  0  0 55  1  0]\n",
      " [ 0  5  0  1  0  1  0  1 55  4]\n",
      " [ 0  0  0  0  0  1  0  3  0 58]]\n"
     ]
    }
   ],
   "source": [
    "model = NearestCentroid()\n",
    "model.fit(Xtrain,ytrain)\n",
    "ypredict = model.predict(Xtest)\n",
    "print('Accuracy',accuracy_score(ytest,ypredict))\n",
    "print('Confusion matrix')\n",
    "print(confusion_matrix(ytest,ypredict))"
   ]
  },
  {
   "cell_type": "code",
   "execution_count": 14,
   "metadata": {},
   "outputs": [
    {
     "name": "stdout",
     "output_type": "stream",
     "text": [
      "Accuracy 0.9882154882154882\n",
      "Confusion matrix\n",
      "[[49  0  0  0  0  0  0  0  0  0]\n",
      " [ 0 61  0  0  0  0  0  0  0  0]\n",
      " [ 0  0 62  0  0  0  0  0  0  0]\n",
      " [ 0  0  0 54  0  0  0  0  1  0]\n",
      " [ 0  0  0  0 50  0  0  0  0  0]\n",
      " [ 0  0  0  0  0 63  1  0  0  1]\n",
      " [ 0  0  0  0  0  0 67  0  0  0]\n",
      " [ 0  0  0  0  0  0  0 56  0  0]\n",
      " [ 0  3  0  0  0  0  0  0 64  0]\n",
      " [ 0  0  0  0  0  1  0  0  0 61]]\n"
     ]
    }
   ],
   "source": [
    "model = SVC()\n",
    "model.fit(Xtrain,ytrain)\n",
    "ypredict = model.predict(Xtest)\n",
    "print('Accuracy',accuracy_score(ytest,ypredict))\n",
    "print('Confusion matrix')\n",
    "print(confusion_matrix(ytest,ypredict))"
   ]
  }
 ],
 "metadata": {
  "kernelspec": {
   "display_name": "Python 3",
   "language": "python",
   "name": "python3"
  },
  "language_info": {
   "codemirror_mode": {
    "name": "ipython",
    "version": 3
   },
   "file_extension": ".py",
   "mimetype": "text/x-python",
   "name": "python",
   "nbconvert_exporter": "python",
   "pygments_lexer": "ipython3",
   "version": "3.7.6"
  }
 },
 "nbformat": 4,
 "nbformat_minor": 4
}
