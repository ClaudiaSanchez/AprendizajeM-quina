{
 "cells": [
  {
   "cell_type": "markdown",
   "metadata": {},
   "source": [
    "## Leer las frases"
   ]
  },
  {
   "cell_type": "code",
   "execution_count": 1,
   "metadata": {},
   "outputs": [],
   "source": [
    "import numpy as np\n",
    "from sklearn.naive_bayes import BernoulliNB\n",
    "from sklearn.svm import SVC\n",
    "from sklearn.ensemble import RandomForestClassifier\n",
    "from sklearn.metrics import accuracy_score"
   ]
  },
  {
   "cell_type": "code",
   "execution_count": 2,
   "metadata": {},
   "outputs": [
    {
     "name": "stdout",
     "output_type": "stream",
     "text": [
      "words 63162\n",
      "ntrain 1596\n",
      "ntest 398\n"
     ]
    }
   ],
   "source": [
    "words = set()\n",
    "ntrain = 0\n",
    "ntest = 0\n",
    "with open(\"train.positive\",\"r\") as file:\n",
    "    for line in file:\n",
    "        words = words.union(set(line.split()))\n",
    "        ntrain+=1\n",
    "with open(\"train.negative\",\"r\") as file:\n",
    "    for line in file:        \n",
    "        words = words.union(set(line.split()))\n",
    "        ntrain+=1\n",
    "with open(\"test.positive\",\"r\") as file:\n",
    "    for line in file:\n",
    "        words = words.union(set(line.split()))\n",
    "        ntest+=1\n",
    "with open(\"test.negative\",\"r\") as file:\n",
    "    for line in file:\n",
    "        words = words.union(set(line.split()))\n",
    "        ntest+=1\n",
    "print('words',len(words))\n",
    "print('ntrain',ntrain)\n",
    "print('ntest',ntest)"
   ]
  },
  {
   "cell_type": "markdown",
   "metadata": {},
   "source": [
    "## Bolsa de palabras"
   ]
  },
  {
   "cell_type": "code",
   "execution_count": 3,
   "metadata": {},
   "outputs": [],
   "source": [
    "bg_train = np.zeros((ntrain,len(words)))\n",
    "bg_test = np.zeros((ntest,len(words)))\n",
    "y_train = np.zeros((ntrain)) \n",
    "y_test = np.zeros((ntest)) "
   ]
  },
  {
   "cell_type": "code",
   "execution_count": 4,
   "metadata": {},
   "outputs": [],
   "source": [
    "index_word = {}\n",
    "for i,word in enumerate(words):\n",
    "    index_word[word] = i"
   ]
  },
  {
   "cell_type": "code",
   "execution_count": 5,
   "metadata": {},
   "outputs": [],
   "source": [
    "itrain = 0\n",
    "with open(\"train.positive\",\"r\") as file:\n",
    "    for line in file:\n",
    "        for word in line.split():\n",
    "            bg_train[itrain,index_word[word] ] = 1 \n",
    "        y_train[itrain] = 1\n",
    "        itrain += 1\n",
    "with open(\"train.negative\",\"r\") as file:\n",
    "    for line in file:\n",
    "        for word in line.split():\n",
    "            bg_train[itrain,index_word[word] ] = 1 \n",
    "        y_train[itrain] = -1\n",
    "        itrain += 1\n",
    "\n",
    "itest = 0\n",
    "with open(\"test.positive\",\"r\") as file:\n",
    "    for line in file:\n",
    "        for word in line.split():\n",
    "            bg_test[itest,index_word[word] ] = 1 \n",
    "        y_test[itest] = 1\n",
    "        itest += 1\n",
    "with open(\"test.negative\",\"r\") as file:\n",
    "    for line in file:\n",
    "        for word in line.split():\n",
    "            bg_test[itest,index_word[word] ] = 1 \n",
    "        y_test[itest] = -1\n",
    "        itest += 1"
   ]
  },
  {
   "cell_type": "markdown",
   "metadata": {},
   "source": [
    "## Naive Bayes"
   ]
  },
  {
   "cell_type": "code",
   "execution_count": 6,
   "metadata": {},
   "outputs": [],
   "source": [
    "model = BernoulliNB()\n",
    "model.fit(bg_train,y_train)\n",
    "\n",
    "y_predict = model.predict(bg_test)"
   ]
  },
  {
   "cell_type": "code",
   "execution_count": 7,
   "metadata": {},
   "outputs": [
    {
     "name": "stdout",
     "output_type": "stream",
     "text": [
      "Accuracy 0.8165829145728644\n"
     ]
    }
   ],
   "source": [
    "print('Accuracy',accuracy_score(y_test,y_predict))"
   ]
  },
  {
   "cell_type": "code",
   "execution_count": null,
   "metadata": {},
   "outputs": [],
   "source": [
    "#model = SVC()\n",
    "#model.fit(bg_train,y_train)\n",
    "#y_predict = model.predict(bg_test)\n",
    "#print('Accuracy',accuracy_score(y_test,y_predict))"
   ]
  },
  {
   "cell_type": "code",
   "execution_count": null,
   "metadata": {},
   "outputs": [],
   "source": [
    "#model = RandomForestClassifier()\n",
    "#model.fit(bg_train,y_train)\n",
    "#y_predict = model.predict(bg_test)\n",
    "#print('Accuracy',accuracy_score(y_test,y_predict))"
   ]
  }
 ],
 "metadata": {
  "kernelspec": {
   "display_name": "Python 3",
   "language": "python",
   "name": "python3"
  },
  "language_info": {
   "codemirror_mode": {
    "name": "ipython",
    "version": 3
   },
   "file_extension": ".py",
   "mimetype": "text/x-python",
   "name": "python",
   "nbconvert_exporter": "python",
   "pygments_lexer": "ipython3",
   "version": "3.7.6"
  }
 },
 "nbformat": 4,
 "nbformat_minor": 4
}
