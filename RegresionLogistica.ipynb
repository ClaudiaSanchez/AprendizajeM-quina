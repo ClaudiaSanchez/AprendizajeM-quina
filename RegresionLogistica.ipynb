{
 "cells": [
  {
   "cell_type": "code",
   "execution_count": 30,
   "metadata": {},
   "outputs": [],
   "source": [
    "import numpy as np\n",
    "import matplotlib.pyplot as plt\n",
    "from sklearn.datasets import load_iris\n",
    "from sklearn.linear_model import LogisticRegression"
   ]
  },
  {
   "cell_type": "markdown",
   "metadata": {},
   "source": [
    "## Modelo con dos clases y dos variables"
   ]
  },
  {
   "cell_type": "code",
   "execution_count": 28,
   "metadata": {},
   "outputs": [
    {
     "name": "stdout",
     "output_type": "stream",
     "text": [
      "X (100, 2)\n",
      "y (100,)\n"
     ]
    },
    {
     "data": {
      "image/png": "[encoded data removed]",
      "text/plain": [
       "<Figure size 432x288 with 1 Axes>"
      ]
     },
     "metadata": {
      "needs_background": "light"
     },
     "output_type": "display_data"
    }
   ],
   "source": [
    "# Filtrar los datos para tener sólo dos clases y dos variables\n",
    "iris = load_iris()\n",
    "idx = np.logical_or(iris.target==0,iris.target==1)\n",
    "\n",
    "y = iris.target[idx]\n",
    "X = iris.data[idx,:]\n",
    "X = X[:,[0,2]]\n",
    "feature_names = [iris.feature_names[0],iris.feature_names[2]]\n",
    "\n",
    "print('X',X.shape)\n",
    "print('y',y.shape)\n",
    "\n",
    "plt.plot(X[y==0,0],X[y==0,1],'.')\n",
    "plt.plot(X[y==1,0],X[y==1,1],'.')\n",
    "plt.xlabel(feature_names[0])\n",
    "plt.ylabel(feature_names[1])\n",
    "plt.show()"
   ]
  },
  {
   "cell_type": "code",
   "execution_count": 36,
   "metadata": {},
   "outputs": [
    {
     "name": "stdout",
     "output_type": "stream",
     "text": [
      "[[0.3653486  2.84071409]]\n",
      "[-9.64260838]\n",
      "w0 -9.642608384818239\n",
      "w1 0.36534860074191366\n",
      "w2 2.8407140938691704\n"
     ]
    }
   ],
   "source": [
    "model = LogisticRegression()\n",
    "model.fit(X,y)\n",
    "w0 = model.intercept_[0]\n",
    "w1 = model.coef_[0][0]\n",
    "w2 = model.coef_[0][1]\n",
    "print(model.coef_)\n",
    "print(model.intercept_)\n",
    "print('w0',w0)\n",
    "print('w1',w1)\n",
    "print('w2',w2)\n",
    "\n",
    "# Modelo =    0.36*x1 + 2.84*x2 - 9.64"
   ]
  },
  {
   "cell_type": "markdown",
   "metadata": {},
   "source": [
    "### Para pintar el modelo en la gráfica\n",
    "$$ w_0 + x_1 w_1 + x_2 w_2 = 0  $$\n",
    "$$ x_2 = m x_1 + b $$\n",
    "\n",
    "Despejando\n",
    "$$ w_0 + x_1 w_1 + x_2 w_2 = 0  $$\n",
    "$$ x_2 w_2 = - w_0 - x_1 w_1  $$\n",
    "$$ x_2 = - \\frac{w_0}{w_2} - x_1 \\frac{w_1}{w_2}  $$\n"
   ]
  },
  {
   "cell_type": "code",
   "execution_count": 43,
   "metadata": {},
   "outputs": [
    {
     "data": {
      "image/png": "[encoded data removed]",
      "text/plain": [
       "<Figure size 432x288 with 1 Axes>"
      ]
     },
     "metadata": {
      "needs_background": "light"
     },
     "output_type": "display_data"
    }
   ],
   "source": [
    "x1 = np.array([4.0,7.0])\n",
    "x2 = -(w0/w2) - x1*(w1/w2)\n",
    "plt.plot(x1,x2)\n",
    "plt.plot(X[y==0,0],X[y==0,1],'.',label='0')\n",
    "plt.plot(X[y==1,0],X[y==1,1],'.',label='1')\n",
    "plt.xlabel(feature_names[0])\n",
    "plt.ylabel(feature_names[1])\n",
    "plt.legend()\n",
    "plt.show()"
   ]
  },
  {
   "cell_type": "code",
   "execution_count": 53,
   "metadata": {},
   "outputs": [
    {
     "name": "stdout",
     "output_type": "stream",
     "text": [
      "[1]\n",
      "[[0.46552129 0.53447871]]\n",
      "-1.1442909961194276\n",
      "10.218565379357255\n"
     ]
    }
   ],
   "source": [
    "newsample_class0 = [[4.6,2.4],[5.7,1.2]]\n",
    "newsample_class1 = [[4.6,6.4],[5.7,7.2]]\n",
    "newsample = [[5.0,2.8]]\n",
    "y_pred = model.predict(newsample)\n",
    "prob = model.predict_proba(newsample)\n",
    "print(y_pred)\n",
    "print(prob)\n",
    "\n",
    "# Modelo =    0.36*x1 + 2.84*x2 - 9.64\n",
    "print( w0 + 4.6*w1 + 2.4*w2)\n",
    "print( w0 + 4.6*w1 + 6.4*w2)"
   ]
  },
  {
   "cell_type": "code",
   "execution_count": null,
   "metadata": {},
   "outputs": [],
   "source": []
  }
 ],
 "metadata": {
  "kernelspec": {
   "display_name": "Python 3",
   "language": "python",
   "name": "python3"
  },
  "language_info": {
   "codemirror_mode": {
    "name": "ipython",
    "version": 3
   },
   "file_extension": ".py",
   "mimetype": "text/x-python",
   "name": "python",
   "nbconvert_exporter": "python",
   "pygments_lexer": "ipython3",
   "version": "3.7.6"
  }
 },
 "nbformat": 4,
 "nbformat_minor": 4
}
