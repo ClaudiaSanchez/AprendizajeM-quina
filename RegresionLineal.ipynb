{
 "cells": [
  {
   "cell_type": "code",
   "execution_count": 1,
   "metadata": {},
   "outputs": [],
   "source": [
    "import numpy as np\n",
    "import matplotlib.pyplot as plt\n",
    "from sklearn.linear_model import LinearRegression\n",
    "from sklearn.metrics import mean_absolute_error "
   ]
  },
  {
   "cell_type": "markdown",
   "metadata": {},
   "source": [
    "## Ejemplo generado: 1 variable de entrada y 1 variable de salida"
   ]
  },
  {
   "cell_type": "code",
   "execution_count": 2,
   "metadata": {},
   "outputs": [
    {
     "data": {
      "image/png": "[encoded data removed]",
      "text/plain": [
       "<Figure size 432x288 with 1 Axes>"
      ]
     },
     "metadata": {
      "needs_background": "light"
     },
     "output_type": "display_data"
    }
   ],
   "source": [
    "hrs = np.random.uniform(2,10,(50))\n",
    "calif = hrs*0.5 + 5 + np.random.normal(0,0.5,(50))\n",
    "\n",
    "plt.figure()\n",
    "plt.plot(hrs,calif,'.')\n",
    "plt.show()\n"
   ]
  },
  {
   "cell_type": "code",
   "execution_count": 3,
   "metadata": {},
   "outputs": [
    {
     "name": "stdout",
     "output_type": "stream",
     "text": [
      "[0.51087471]\n",
      "4.900520294151558\n"
     ]
    }
   ],
   "source": [
    "model = LinearRegression()\n",
    "model.fit(np.reshape(hrs,(50,1)),calif)  # calif = model(hrs)\n",
    "print(model.coef_)\n",
    "print(model.intercept_)"
   ]
  },
  {
   "cell_type": "markdown",
   "metadata": {},
   "source": [
    "# Problema winequality"
   ]
  },
  {
   "cell_type": "code",
   "execution_count": 4,
   "metadata": {},
   "outputs": [
    {
     "data": {
      "text/html": [
       "<div>\n",
       "<style scoped>\n",
       "    .dataframe tbody tr th:only-of-type {\n",
       "        vertical-align: middle;\n",
       "    }\n",
       "\n",
       "    .dataframe tbody tr th {\n",
       "        vertical-align: top;\n",
       "    }\n",
       "\n",
       "    .dataframe thead th {\n",
       "        text-align: right;\n",
       "    }\n",
       "</style>\n",
       "<table border=\"1\" class=\"dataframe\">\n",
       "  <thead>\n",
       "    <tr style=\"text-align: right;\">\n",
       "      <th></th>\n",
       "      <th>fixed acidity</th>\n",
       "      <th>volatile acidity</th>\n",
       "      <th>citric acid</th>\n",
       "      <th>residual sugar</th>\n",
       "      <th>chlorides</th>\n",
       "      <th>free sulfur dioxide</th>\n",
       "      <th>total sulfur dioxide</th>\n",
       "      <th>density</th>\n",
       "      <th>pH</th>\n",
       "      <th>sulphates</th>\n",
       "      <th>alcohol</th>\n",
       "      <th>quality</th>\n",
       "    </tr>\n",
       "  </thead>\n",
       "  <tbody>\n",
       "    <tr>\n",
       "      <th>0</th>\n",
       "      <td>7.4</td>\n",
       "      <td>0.700</td>\n",
       "      <td>0.00</td>\n",
       "      <td>1.9</td>\n",
       "      <td>0.076</td>\n",
       "      <td>11.0</td>\n",
       "      <td>34.0</td>\n",
       "      <td>0.99780</td>\n",
       "      <td>3.51</td>\n",
       "      <td>0.56</td>\n",
       "      <td>9.4</td>\n",
       "      <td>5</td>\n",
       "    </tr>\n",
       "    <tr>\n",
       "      <th>1</th>\n",
       "      <td>7.8</td>\n",
       "      <td>0.880</td>\n",
       "      <td>0.00</td>\n",
       "      <td>2.6</td>\n",
       "      <td>0.098</td>\n",
       "      <td>25.0</td>\n",
       "      <td>67.0</td>\n",
       "      <td>0.99680</td>\n",
       "      <td>3.20</td>\n",
       "      <td>0.68</td>\n",
       "      <td>9.8</td>\n",
       "      <td>5</td>\n",
       "    </tr>\n",
       "    <tr>\n",
       "      <th>2</th>\n",
       "      <td>7.8</td>\n",
       "      <td>0.760</td>\n",
       "      <td>0.04</td>\n",
       "      <td>2.3</td>\n",
       "      <td>0.092</td>\n",
       "      <td>15.0</td>\n",
       "      <td>54.0</td>\n",
       "      <td>0.99700</td>\n",
       "      <td>3.26</td>\n",
       "      <td>0.65</td>\n",
       "      <td>9.8</td>\n",
       "      <td>5</td>\n",
       "    </tr>\n",
       "    <tr>\n",
       "      <th>3</th>\n",
       "      <td>11.2</td>\n",
       "      <td>0.280</td>\n",
       "      <td>0.56</td>\n",
       "      <td>1.9</td>\n",
       "      <td>0.075</td>\n",
       "      <td>17.0</td>\n",
       "      <td>60.0</td>\n",
       "      <td>0.99800</td>\n",
       "      <td>3.16</td>\n",
       "      <td>0.58</td>\n",
       "      <td>9.8</td>\n",
       "      <td>6</td>\n",
       "    </tr>\n",
       "    <tr>\n",
       "      <th>4</th>\n",
       "      <td>7.4</td>\n",
       "      <td>0.700</td>\n",
       "      <td>0.00</td>\n",
       "      <td>1.9</td>\n",
       "      <td>0.076</td>\n",
       "      <td>11.0</td>\n",
       "      <td>34.0</td>\n",
       "      <td>0.99780</td>\n",
       "      <td>3.51</td>\n",
       "      <td>0.56</td>\n",
       "      <td>9.4</td>\n",
       "      <td>5</td>\n",
       "    </tr>\n",
       "    <tr>\n",
       "      <th>...</th>\n",
       "      <td>...</td>\n",
       "      <td>...</td>\n",
       "      <td>...</td>\n",
       "      <td>...</td>\n",
       "      <td>...</td>\n",
       "      <td>...</td>\n",
       "      <td>...</td>\n",
       "      <td>...</td>\n",
       "      <td>...</td>\n",
       "      <td>...</td>\n",
       "      <td>...</td>\n",
       "      <td>...</td>\n",
       "    </tr>\n",
       "    <tr>\n",
       "      <th>1594</th>\n",
       "      <td>6.2</td>\n",
       "      <td>0.600</td>\n",
       "      <td>0.08</td>\n",
       "      <td>2.0</td>\n",
       "      <td>0.090</td>\n",
       "      <td>32.0</td>\n",
       "      <td>44.0</td>\n",
       "      <td>0.99490</td>\n",
       "      <td>3.45</td>\n",
       "      <td>0.58</td>\n",
       "      <td>10.5</td>\n",
       "      <td>5</td>\n",
       "    </tr>\n",
       "    <tr>\n",
       "      <th>1595</th>\n",
       "      <td>5.9</td>\n",
       "      <td>0.550</td>\n",
       "      <td>0.10</td>\n",
       "      <td>2.2</td>\n",
       "      <td>0.062</td>\n",
       "      <td>39.0</td>\n",
       "      <td>51.0</td>\n",
       "      <td>0.99512</td>\n",
       "      <td>3.52</td>\n",
       "      <td>0.76</td>\n",
       "      <td>11.2</td>\n",
       "      <td>6</td>\n",
       "    </tr>\n",
       "    <tr>\n",
       "      <th>1596</th>\n",
       "      <td>6.3</td>\n",
       "      <td>0.510</td>\n",
       "      <td>0.13</td>\n",
       "      <td>2.3</td>\n",
       "      <td>0.076</td>\n",
       "      <td>29.0</td>\n",
       "      <td>40.0</td>\n",
       "      <td>0.99574</td>\n",
       "      <td>3.42</td>\n",
       "      <td>0.75</td>\n",
       "      <td>11.0</td>\n",
       "      <td>6</td>\n",
       "    </tr>\n",
       "    <tr>\n",
       "      <th>1597</th>\n",
       "      <td>5.9</td>\n",
       "      <td>0.645</td>\n",
       "      <td>0.12</td>\n",
       "      <td>2.0</td>\n",
       "      <td>0.075</td>\n",
       "      <td>32.0</td>\n",
       "      <td>44.0</td>\n",
       "      <td>0.99547</td>\n",
       "      <td>3.57</td>\n",
       "      <td>0.71</td>\n",
       "      <td>10.2</td>\n",
       "      <td>5</td>\n",
       "    </tr>\n",
       "    <tr>\n",
       "      <th>1598</th>\n",
       "      <td>6.0</td>\n",
       "      <td>0.310</td>\n",
       "      <td>0.47</td>\n",
       "      <td>3.6</td>\n",
       "      <td>0.067</td>\n",
       "      <td>18.0</td>\n",
       "      <td>42.0</td>\n",
       "      <td>0.99549</td>\n",
       "      <td>3.39</td>\n",
       "      <td>0.66</td>\n",
       "      <td>11.0</td>\n",
       "      <td>6</td>\n",
       "    </tr>\n",
       "  </tbody>\n",
       "</table>\n",
       "<p>1599 rows × 12 columns</p>\n",
       "</div>"
      ],
      "text/plain": [
       "      fixed acidity  volatile acidity  citric acid  residual sugar  chlorides  \\\n",
       "0               7.4             0.700         0.00             1.9      0.076   \n",
       "1               7.8             0.880         0.00             2.6      0.098   \n",
       "2               7.8             0.760         0.04             2.3      0.092   \n",
       "3              11.2             0.280         0.56             1.9      0.075   \n",
       "4               7.4             0.700         0.00             1.9      0.076   \n",
       "...             ...               ...          ...             ...        ...   \n",
       "1594            6.2             0.600         0.08             2.0      0.090   \n",
       "1595            5.9             0.550         0.10             2.2      0.062   \n",
       "1596            6.3             0.510         0.13             2.3      0.076   \n",
       "1597            5.9             0.645         0.12             2.0      0.075   \n",
       "1598            6.0             0.310         0.47             3.6      0.067   \n",
       "\n",
       "      free sulfur dioxide  total sulfur dioxide  density    pH  sulphates  \\\n",
       "0                    11.0                  34.0  0.99780  3.51       0.56   \n",
       "1                    25.0                  67.0  0.99680  3.20       0.68   \n",
       "2                    15.0                  54.0  0.99700  3.26       0.65   \n",
       "3                    17.0                  60.0  0.99800  3.16       0.58   \n",
       "4                    11.0                  34.0  0.99780  3.51       0.56   \n",
       "...                   ...                   ...      ...   ...        ...   \n",
       "1594                 32.0                  44.0  0.99490  3.45       0.58   \n",
       "1595                 39.0                  51.0  0.99512  3.52       0.76   \n",
       "1596                 29.0                  40.0  0.99574  3.42       0.75   \n",
       "1597                 32.0                  44.0  0.99547  3.57       0.71   \n",
       "1598                 18.0                  42.0  0.99549  3.39       0.66   \n",
       "\n",
       "      alcohol  quality  \n",
       "0         9.4        5  \n",
       "1         9.8        5  \n",
       "2         9.8        5  \n",
       "3         9.8        6  \n",
       "4         9.4        5  \n",
       "...       ...      ...  \n",
       "1594     10.5        5  \n",
       "1595     11.2        6  \n",
       "1596     11.0        6  \n",
       "1597     10.2        5  \n",
       "1598     11.0        6  \n",
       "\n",
       "[1599 rows x 12 columns]"
      ]
     },
     "execution_count": 4,
     "metadata": {},
     "output_type": "execute_result"
    }
   ],
   "source": [
    "import pandas\n",
    "df=pandas.read_csv('winequality-red.csv',sep=';')\n",
    "df"
   ]
  },
  {
   "cell_type": "code",
   "execution_count": 5,
   "metadata": {},
   "outputs": [
    {
     "data": {
      "image/png": "[encoded data removed]",
      "text/plain": [
       "<Figure size 432x288 with 1 Axes>"
      ]
     },
     "metadata": {
      "needs_background": "light"
     },
     "output_type": "display_data"
    }
   ],
   "source": [
    "v1,v2 = 0,8\n",
    "acidity = df.values[:,v1]\n",
    "ph = df.values[:,v2]\n",
    "plt.figure()\n",
    "plt.plot(df.values[:,v1],df.values[:,v2],'.')\n",
    "plt.xlabel(df.columns[v1])\n",
    "plt.ylabel(df.columns[v2])\n",
    "plt.show()"
   ]
  },
  {
   "cell_type": "markdown",
   "metadata": {},
   "source": [
    "### 1 variable de entrada y 1 variable de salida"
   ]
  },
  {
   "cell_type": "code",
   "execution_count": 6,
   "metadata": {},
   "outputs": [
    {
     "name": "stdout",
     "output_type": "stream",
     "text": [
      "[-0.06056103]\n",
      "3.8149590111969203\n"
     ]
    }
   ],
   "source": [
    "model = LinearRegression()\n",
    "model.fit( np.reshape(acidity,(len(acidity),1)), ph )\n",
    "print(model.coef_)\n",
    "print(model.intercept_)\n",
    "#   ph = acidity * -0.06 + 3.81"
   ]
  },
  {
   "cell_type": "markdown",
   "metadata": {},
   "source": [
    "### n variables de entrada y 1 variable de salida"
   ]
  },
  {
   "cell_type": "code",
   "execution_count": 7,
   "metadata": {},
   "outputs": [
    {
     "name": "stdout",
     "output_type": "stream",
     "text": [
      "features (1599, 11)\n",
      "quality (1599,)\n",
      "Index(['fixed acidity', 'volatile acidity', 'citric acid', 'residual sugar',\n",
      "       'chlorides', 'free sulfur dioxide', 'total sulfur dioxide', 'density',\n",
      "       'pH', 'sulphates', 'alcohol'],\n",
      "      dtype='object')\n"
     ]
    }
   ],
   "source": [
    "quality = df.values[:,-1]\n",
    "features = df.values[:,:-1]\n",
    "print('features',features.shape)\n",
    "print('quality',quality.shape)\n",
    "print(df.columns[:-1])"
   ]
  },
  {
   "cell_type": "code",
   "execution_count": 8,
   "metadata": {},
   "outputs": [
    {
     "name": "stdout",
     "output_type": "stream",
     "text": [
      "[ 2.49905527e-02 -1.08359026e+00 -1.82563948e-01  1.63312698e-02\n",
      " -1.87422516e+00  4.36133331e-03 -3.26457970e-03 -1.78811638e+01\n",
      " -4.13653144e-01  9.16334413e-01  2.76197699e-01]\n",
      "21.96520844945205\n"
     ]
    }
   ],
   "source": [
    "model = LinearRegression()\n",
    "model.fit( features, quality )\n",
    "print(model.coef_)\n",
    "print(model.intercept_)"
   ]
  },
  {
   "cell_type": "markdown",
   "metadata": {},
   "source": [
    "## Muestra de entrenamiento y prueba"
   ]
  },
  {
   "cell_type": "code",
   "execution_count": 9,
   "metadata": {},
   "outputs": [
    {
     "name": "stdout",
     "output_type": "stream",
     "text": [
      "[13  7 12  8  4  3 19 15  6 18  9 14  2  1  0 16 11 17  5 10]\n",
      "train [13  7 12  8  4  3 19 15  6 18  9 14  2  1]\n",
      "test [ 0 16 11 17  5 10]\n"
     ]
    }
   ],
   "source": [
    "n = 20\n",
    "idx = np.random.permutation(n)\n",
    "print(idx)\n",
    "print('train',idx[:int(n*0.7)])\n",
    "print('test',idx[int(n*0.7):])\n",
    "\n",
    "#x_training = "
   ]
  },
  {
   "cell_type": "code",
   "execution_count": 10,
   "metadata": {},
   "outputs": [
    {
     "name": "stdout",
     "output_type": "stream",
     "text": [
      "train (1119, 11) (1119,)\n",
      "test (480, 11) (480,)\n"
     ]
    }
   ],
   "source": [
    "n = len(df.values)\n",
    "idx = np.random.permutation(n)\n",
    "idx_train = idx[:int(n*0.7)]\n",
    "idx_test = idx[int(n*0.7):]\n",
    "\n",
    "x_train = df.values[ idx_train, :-1 ]\n",
    "x_test = df.values[ idx_test , :-1 ]\n",
    "y_train = df.values[ idx_train, -1 ]\n",
    "y_test = df.values[ idx_test , -1 ]\n",
    "print('train',x_train.shape,y_train.shape)\n",
    "print('test',x_test.shape,y_test.shape)"
   ]
  },
  {
   "cell_type": "code",
   "execution_count": 11,
   "metadata": {},
   "outputs": [
    {
     "name": "stdout",
     "output_type": "stream",
     "text": [
      "y_test [5. 5. 8. 7. 6. 6. 6. 5. 7. 5.]\n",
      "y_pred [4.78886978 5.05631972 6.0970685  5.97385119 5.10329837 6.1441953\n",
      " 5.40412891 5.60836249 6.39959646 4.71756569]\n"
     ]
    }
   ],
   "source": [
    "model = LinearRegression()\n",
    "model.fit( x_train , y_train )\n",
    "y_pred = model.predict( x_test )\n",
    "print('y_test',y_test[:10])\n",
    "print('y_pred',y_pred[:10])"
   ]
  },
  {
   "cell_type": "markdown",
   "metadata": {},
   "source": [
    "## Error medio absoluto"
   ]
  },
  {
   "cell_type": "code",
   "execution_count": 12,
   "metadata": {},
   "outputs": [
    {
     "name": "stdout",
     "output_type": "stream",
     "text": [
      "Error medio absoluto: 0.5464584714011419\n"
     ]
    }
   ],
   "source": [
    "error = 0\n",
    "for yi, yt in zip(y_test,y_pred):\n",
    "    error += abs(yi-yt)\n",
    "error = error/len(y_test)\n",
    "print('Error medio absoluto:',error)"
   ]
  },
  {
   "cell_type": "code",
   "execution_count": 13,
   "metadata": {},
   "outputs": [
    {
     "name": "stdout",
     "output_type": "stream",
     "text": [
      "Error medio absoluto: 0.5464584714011422\n"
     ]
    }
   ],
   "source": [
    "error = mean_absolute_error(y_test,y_pred)\n",
    "print('Error medio absoluto:',error)"
   ]
  },
  {
   "cell_type": "markdown",
   "metadata": {},
   "source": [
    "## Normalización"
   ]
  },
  {
   "cell_type": "code",
   "execution_count": 23,
   "metadata": {},
   "outputs": [
    {
     "name": "stdout",
     "output_type": "stream",
     "text": [
      "fixed acidity\n",
      "  min: 4.6 max 15.9\n",
      "  min: -2.1648348314051553 max 4.350848066973586\n",
      "volatile acidity\n",
      "  min: 0.16 max 1.58\n",
      "  min: -2.0860546701287754 max 6.010722568268383\n",
      "citric acid\n",
      "  min: 0.0 max 1.0\n",
      "  min: -1.4172369762189203 max 3.762018988473998\n",
      "residual sugar\n",
      "  min: 0.9 max 15.5\n",
      "  min: -1.139580695742414 max 8.799977074062783\n",
      "chlorides\n",
      "  min: 0.034 max 0.611\n",
      "  min: -1.182034010938203 max 11.635735388887014\n",
      "free sulfur dioxide\n",
      "  min: 1.0 max 72.0\n",
      "  min: -1.4495942108387587 max 5.51787670219119\n",
      "total sulfur dioxide\n",
      "  min: 6.0 max 289.0\n",
      "  min: -1.2604591650417325 max 7.618310912876272\n",
      "density\n",
      "  min: 0.9900700000000001 max 1.00369\n",
      "  min: -3.674351360982138 max 3.731779957101889\n",
      "pH\n",
      "  min: 2.74 max 3.9\n",
      "  min: -3.7988554017616263 max 3.9311790320968463\n",
      "sulphates\n",
      "  min: 0.37 max 2.0\n",
      "  min: -1.7818077559136722 max 8.177630502709336\n",
      "alcohol\n",
      "  min: 8.4 max 14.9\n",
      "  min: -1.8943929186422945 max 4.270602224009019\n"
     ]
    }
   ],
   "source": [
    "xtrain_norm = np.zeros(x_train.shape,float)\n",
    "xtest_norm = np.zeros(x_test.shape,float)\n",
    "\n",
    "# Cálculo de los promedios y desviación estándar debe ser sobre los datos de entrenamiento\n",
    "ncolumns = x_train.shape[1]\n",
    "avr = np.zeros((ncolumns),float)\n",
    "std = np.zeros((ncolumns),float)\n",
    "for i in range(ncolumns):\n",
    "    print(df.columns[i])\n",
    "    print('  min:',np.min(x_train[:,i]),'max',np.max(x_train[:,i]))\n",
    "    avr[i] = np.mean(x_train[:,i])\n",
    "    std[i] = np.std(x_train[:,i])\n",
    "    \n",
    "    xtrain_norm[:,i] = (x_train[:,i]-avr[i])/std[i]\n",
    "    xtest_norm[:,i] = (x_test[:,i]-avr[i])/std[i]\n",
    "    print('  min:',np.min(xtrain_norm[:,i]),'max',np.max(xtrain_norm[:,i]))"
   ]
  },
  {
   "cell_type": "code",
   "execution_count": 26,
   "metadata": {},
   "outputs": [
    {
     "name": "stdout",
     "output_type": "stream",
     "text": [
      "Error medio absoluto: 0.5464584714011426\n"
     ]
    }
   ],
   "source": [
    "model = LinearRegression()\n",
    "model.fit( xtrain_norm , y_train )\n",
    "y_pred = model.predict( xtest_norm )\n",
    "error = mean_absolute_error(y_test,y_pred)\n",
    "print('Error medio absoluto:',error)"
   ]
  },
  {
   "cell_type": "code",
   "execution_count": null,
   "metadata": {},
   "outputs": [],
   "source": []
  }
 ],
 "metadata": {
  "kernelspec": {
   "display_name": "Python 3",
   "language": "python",
   "name": "python3"
  },
  "language_info": {
   "codemirror_mode": {
    "name": "ipython",
    "version": 3
   },
   "file_extension": ".py",
   "mimetype": "text/x-python",
   "name": "python",
   "nbconvert_exporter": "python",
   "pygments_lexer": "ipython3",
   "version": "3.7.6"
  }
 },
 "nbformat": 4,
 "nbformat_minor": 4
}
